{
  "nbformat": 4,
  "nbformat_minor": 0,
  "metadata": {
    "colab": {
      "provenance": [],
      "include_colab_link": true
    },
    "kernelspec": {
      "name": "python3",
      "display_name": "Python 3"
    },
    "language_info": {
      "name": "python"
    }
  },
  "cells": [
    {
      "cell_type": "markdown",
      "metadata": {
        "id": "view-in-github",
        "colab_type": "text"
      },
      "source": [
        "<a href=\"https://colab.research.google.com/github/Hipo-hub/ejemplo-git/blob/main/Ejercicios_de_refuerzo.ipynb\" target=\"_parent\"><img src=\"https://colab.research.google.com/assets/colab-badge.svg\" alt=\"Open In Colab\"/></a>"
      ]
    },
    {
      "cell_type": "markdown",
      "source": [
        "# **Tarea de Numpy**\n",
        "\n",
        "Este notebook es el de los ejercicios >:)"
      ],
      "metadata": {
        "id": "AnjfrYcx4MCI"
      }
    },
    {
      "cell_type": "code",
      "source": [
        "!pip install numpy\n",
        "import numpy as np\n",
        "\n",
        "# Probando si si jala el numpy\n",
        "my_arreglow = np.array([1, 2, 3, 4, 5])\n",
        "\n",
        "print(my_arreglow)\n",
        "print(np.mean(my_arreglow))\n"
      ],
      "metadata": {
        "colab": {
          "base_uri": "https://localhost:8080/"
        },
        "id": "qxKzpmVP8Lqs",
        "outputId": "7a48480b-7b6b-4905-a165-57dd0860d3c8"
      },
      "execution_count": null,
      "outputs": [
        {
          "output_type": "stream",
          "name": "stdout",
          "text": [
            "Requirement already satisfied: numpy in /usr/local/lib/python3.11/dist-packages (2.0.2)\n",
            "[1 2 3 4 5]\n",
            "3.0\n"
          ]
        }
      ]
    },
    {
      "cell_type": "markdown",
      "source": [
        "## Ejercicios de refuerzo"
      ],
      "metadata": {
        "id": "5bZxvLcH4Twv"
      }
    },
    {
      "cell_type": "markdown",
      "source": [
        "### **Ejercicio 1 - Crear un array de ceros:**\n",
        "Crea un array de tamaño (3, 4) lleno de ceros."
      ],
      "metadata": {
        "id": "0DKnt0XJ4b0j"
      }
    },
    {
      "cell_type": "code",
      "execution_count": null,
      "metadata": {
        "id": "XpBz8hQx4LD7",
        "outputId": "937a8be5-af38-4469-c006-4676490116d6",
        "colab": {
          "base_uri": "https://localhost:8080/"
        }
      },
      "outputs": [
        {
          "output_type": "stream",
          "name": "stdout",
          "text": [
            "[[0. 0. 0. 0.]\n",
            " [0. 0. 0. 0.]\n",
            " [0. 0. 0. 0.]]\n"
          ]
        }
      ],
      "source": [
        "# Solución (:\n",
        "import numpy as np\n",
        "\n",
        "array_de_ceros = np.zeros((3, 4))\n",
        "\n",
        "print(array_de_ceros)\n"
      ]
    },
    {
      "cell_type": "markdown",
      "source": [
        "### **Ejercicio 2-  Suma de elementos:**\n",
        "   Dado el array [1, 2, 3, 4, 5], calcula la suma de todos sus elementos usando NumPy."
      ],
      "metadata": {
        "id": "3LhYSK4M91vQ"
      }
    },
    {
      "cell_type": "code",
      "source": [
        "# Solucion :)\n",
        "import numpy as np\n",
        "\n",
        "array = np.array([1, 2, 3, 4, 5])\n",
        "\n",
        "suma_elementos = np.sum(array)\n",
        "\n",
        "print(suma_elementos)\n"
      ],
      "metadata": {
        "id": "l0s1XSEL98xf"
      },
      "execution_count": null,
      "outputs": []
    },
    {
      "cell_type": "markdown",
      "source": [
        "### **Ejercicio 3 - Encontrar el máximo y mínimo:**\n",
        "Dado el array [10, 20, 30, 40, 50], encuentra el valor máximo y mínimo."
      ],
      "metadata": {
        "id": "u1S6J4AI99Ae"
      }
    },
    {
      "cell_type": "code",
      "source": [
        "array = np.array([10, 20, 30, 40, 50])\n",
        "\n",
        "# Solución:)\n",
        "maximo = np.max(array)\n",
        "minimo = np.min(array)\n",
        "\n",
        "print(f\"El valor máximo es: {maximo}\")\n",
        "print(f\"El valor mínimo es: {minimo}\")"
      ],
      "metadata": {
        "id": "rU0mZk0h-A0R"
      },
      "execution_count": null,
      "outputs": []
    },
    {
      "cell_type": "markdown",
      "source": [
        "### **Ejercicio 4 - Encontrar el máximo y mínimo:**\n",
        " Dado el array [10, 20, 30, 40, 50], encuentra el valor máximo y mínimo.\n"
      ],
      "metadata": {
        "id": "lACW-PKX-BDd"
      }
    },
    {
      "cell_type": "code",
      "source": [
        "# Solución:)\n"
      ],
      "metadata": {
        "id": "-qHvH7gJ-Ede"
      },
      "execution_count": null,
      "outputs": []
    },
    {
      "cell_type": "markdown",
      "source": [
        "### **Ejercicio 5 - Generar números aleatorios:**\n",
        "  Genera un array de 5 números aleatorios entre 0 y 1."
      ],
      "metadata": {
        "id": "ZkPxM1Wt-EmM"
      }
    },
    {
      "cell_type": "code",
      "source": [
        "# Solución:)\n",
        "array_aleatorio = np.random.rand(5)\n",
        "print(array_aleatorio)"
      ],
      "metadata": {
        "id": "PBaN-yAp-Hu0"
      },
      "execution_count": null,
      "outputs": []
    },
    {
      "cell_type": "markdown",
      "source": [
        "### **Ejercicio 6 - Promedio de un array:**\n",
        "Dado el array [5, 10, 15, 20, 25], calcula su promedio usando NumPy."
      ],
      "metadata": {
        "id": "MEDxAgWLAE8Q"
      }
    },
    {
      "cell_type": "code",
      "source": [
        "#Solucion:)\n",
        "array = np.array([5, 10, 15, 20, 25])\n",
        "promedio = np.mean(array)\n",
        "print(f\"El promedio es: {promedio}\")"
      ],
      "metadata": {
        "id": "HjnjecKuAOkN"
      },
      "execution_count": null,
      "outputs": []
    },
    {
      "cell_type": "markdown",
      "source": [
        "### **Ejercicio 7 - Concatenar dos arrays**\n",
        "Dados los arrays A = [1, 2, 3] y B = [4, 5, 6], concaténalos en un solo array."
      ],
      "metadata": {
        "id": "Z93kn0htAPZb"
      }
    },
    {
      "cell_type": "code",
      "source": [
        "#Solucion:)\n",
        "A = np.array([1, 2, 3])\n",
        "B = np.array([4, 5, 6])\n",
        "concatenado = np.concatenate((A, B))\n",
        "print(concatenado)\n"
      ],
      "metadata": {
        "id": "NzldaS9RAS45",
        "outputId": "5dbf0431-e188-49a1-8201-21b9b886c327",
        "colab": {
          "base_uri": "https://localhost:8080/"
        }
      },
      "execution_count": null,
      "outputs": [
        {
          "output_type": "stream",
          "name": "stdout",
          "text": [
            "[1 2 3 4 5 6]\n"
          ]
        }
      ]
    },
    {
      "cell_type": "markdown",
      "source": [
        "### **Ejercicio 8 - Reshape de un Array**\n",
        "Dado el array [1, 2, 3, 4, 5, 6], cámbialo a una matriz de 2x3."
      ],
      "metadata": {
        "id": "bvTCzzFjAevg"
      }
    },
    {
      "cell_type": "code",
      "source": [
        "#Solución:)\n",
        "array = np.array([1, 2, 3, 4, 5, 6])\n",
        "matriz = array.reshape(2, 3)\n",
        "print(matriz)"
      ],
      "metadata": {
        "id": "0hfE1QUMAhB3"
      },
      "execution_count": null,
      "outputs": []
    },
    {
      "cell_type": "markdown",
      "source": [
        "### **Ejercicio 9 - Producto punto (dot product):**\n",
        "Dados dos arrays A = [1, 2, 3] y B = [4, 5, 6], calcula su producto punto"
      ],
      "metadata": {
        "id": "By9zMuMyYMNA"
      }
    },
    {
      "cell_type": "code",
      "source": [
        "#Solución:)\n",
        "A = np.array([1, 2, 3,])\n",
        "B = np.array([4, 5, 6])\n",
        "dotproduct = np.dot(A, B)\n",
        "print(dotproduct)"
      ],
      "metadata": {
        "id": "Vj-94PgAhpmk",
        "outputId": "cdda6b42-a2c5-4cf9-eaea-dec9f50163c5",
        "colab": {
          "base_uri": "https://localhost:8080/"
        }
      },
      "execution_count": null,
      "outputs": [
        {
          "output_type": "stream",
          "name": "stdout",
          "text": [
            "32\n"
          ]
        }
      ]
    },
    {
      "cell_type": "markdown",
      "source": [
        "### **Ejercicio 10 - Reorganizar un array:**\n",
        "Dado el array [1, 2, 3, 4, 5, 6, 7, 8, 9, 10], conviértelo en una matriz (2, 5)."
      ],
      "metadata": {
        "id": "Z0UxB4reh4LU"
      }
    },
    {
      "cell_type": "code",
      "source": [
        "#Solución:)\n",
        "array = np.array([1, 2, 3, 4, 5, 6, 7, 8, 9, 10])\n",
        "matriz = array.reshape(2, 5)\n",
        "print(matriz)"
      ],
      "metadata": {
        "id": "GkjKd3SLh6Sf"
      },
      "execution_count": null,
      "outputs": []
    },
    {
      "cell_type": "markdown",
      "source": [
        "### **Ejercicio extra - Encontrar el *k*-ésimo elemento más pequeño en un array**\n",
        "Dado arr = np.array([9, 3, 6, 2, 1, 7]), encuentra el 3er elemento más pequeño sin ordenar el array completo.\n",
        "\n",
        "**Pista solución 1**: Se puede hacer con un método de Numpy\n",
        "\n",
        "**Pista solución 2**: El código se hace más complicado, pero se puede resolver con ciclos iterativos."
      ],
      "metadata": {
        "id": "MpTGrPV5iE1Z"
      }
    },
    {
      "cell_type": "code",
      "source": [
        "#Solucion :o\n",
        "arr = np.array([9, 3, 6, 2, 1, 7])"
      ],
      "metadata": {
        "id": "OYaMOW-jiLlX"
      },
      "execution_count": null,
      "outputs": []
    },
    {
      "cell_type": "markdown",
      "source": [
        "## **Ejercicios aplicados**"
      ],
      "metadata": {
        "id": "Unyrp8HOCtMh"
      }
    },
    {
      "cell_type": "markdown",
      "source": [
        "### **Ejercicio: Cálculo de ROI (Retorno de Inversión)**\n",
        "Dadas las inversiones ([1000, 1500, 2000]) y sus retornos ([1200, 1650, 1800]), calcula el ROI porcentual para cada caso.\n",
        "\n",
        "*(Fórmula: ROI = (retorno - inversión) / inversión * 100)*"
      ],
      "metadata": {
        "id": "K1CPCb12GeCz"
      }
    },
    {
      "cell_type": "code",
      "source": [
        "# Solucion del ROIROIROIROIORIORI\n"
      ],
      "metadata": {
        "id": "6Eo-aN8bCwg1"
      },
      "execution_count": null,
      "outputs": []
    },
    {
      "cell_type": "markdown",
      "source": [
        "### **Ejercicio: Normalización de Datos**\n",
        "Tienes un dataset de precios de productos (en USD): [250, 320, 150, 500, 210]. Normaliza los valores al rango [0, 1] para compararlos en una escala común.\n",
        "\n",
        "**Formulita de la normalización**: (x - min) / (max - min): Para una escala valores entre 0 y 1."
      ],
      "metadata": {
        "id": "3CfyZVv4GksC"
      }
    },
    {
      "cell_type": "code",
      "source": [],
      "metadata": {
        "id": "afTic4_JGxAy"
      },
      "execution_count": null,
      "outputs": []
    },
    {
      "cell_type": "markdown",
      "source": [
        "### **Ejercicio: Filtrado de Datos**\n",
        "En un array de ventas diarias ([1200, 0, 750, 2400, 0, 1800]), reemplaza los ceros (días sin ventas) por el promedio de los días con ventas."
      ],
      "metadata": {
        "id": "Px7Pdn7xHBAR"
      }
    },
    {
      "cell_type": "code",
      "source": [],
      "metadata": {
        "id": "rqwubxX-HFBX"
      },
      "execution_count": null,
      "outputs": []
    },
    {
      "cell_type": "markdown",
      "source": [
        "### **Ejercicio - Análisis de Presión Arterial**\n",
        "Tenemos un dataset de mediciones de presión arterial sistólica (mmHg) de 10 pacientes:\n",
        "[120, 135, 140, 118, 150, 130, 160, 125, 142, 128].\n",
        "\n",
        "Calculen:\n",
        "- Media y desviación estándar.\n",
        "- Identifiquen valores fuera del rango normal (90–140 mmHg)."
      ],
      "metadata": {
        "id": "dKK2wBEEdqzt"
      }
    },
    {
      "cell_type": "code",
      "source": [],
      "metadata": {
        "id": "RkYj4KJud0uu"
      },
      "execution_count": null,
      "outputs": []
    },
    {
      "cell_type": "markdown",
      "source": [
        "### **Ejercicio - Cálculo del PIB per Cápita**\n",
        "Dados el PIB (en millones de USD) [500, 320, 700, 450] y la población (en millones) [10, 8, 12, 9] de 4 países, calculen el PIB per cápita y determinen el país con el mayor valor."
      ],
      "metadata": {
        "id": "ltzE201veNyz"
      }
    },
    {
      "cell_type": "code",
      "source": [],
      "metadata": {
        "id": "TMl-OWMpeOcP"
      },
      "execution_count": null,
      "outputs": []
    },
    {
      "cell_type": "markdown",
      "source": [
        "### **Ejercicio - Sistema de Drops (Probabilidades)**\n",
        "En un videojuego RPG, los enemigos al ser vencidos, pueden dropear (soltar):\n",
        "- 0 = Nada (50%).\n",
        "- 1 = Poción (30%).\n",
        "- 2 = Arma (15%).\n",
        "- 3 = Artefacto (5%).\n",
        "\n",
        "Simula 100 drops y cuenta cuántos artefactos se obtuvieron.\n",
        "\n",
        "*Ejemplo de salida*:\n",
        "\n",
        "```\n",
        "Artifactos obtenidos: 3\n",
        "```\n",
        "\n"
      ],
      "metadata": {
        "id": "7AP-dS9HgAO9"
      }
    },
    {
      "cell_type": "code",
      "source": [],
      "metadata": {
        "id": "828OGOwUgPBV"
      },
      "execution_count": null,
      "outputs": []
    }
  ]
}